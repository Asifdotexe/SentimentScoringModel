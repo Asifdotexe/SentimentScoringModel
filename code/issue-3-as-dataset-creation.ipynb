{
 "cells": [
  {
   "cell_type": "markdown",
   "metadata": {},
   "source": [
    "# Creating a dataset"
   ]
  },
  {
   "cell_type": "markdown",
   "metadata": {},
   "source": [
    "So, the ndjson (Newline delimited JSON) package is pretty handy here because our dataset is formatted in a special way. It's got JSON objects, but they're separated by newline characters. Now, instead of writing all sorts of code to handle that ourselves, we can just use the ndjson package. It makes reading and parsing this kind of data a breeze, saving us a bunch of time and effort"
   ]
  },
  {
   "cell_type": "code",
   "execution_count": 2,
   "metadata": {},
   "outputs": [],
   "source": [
    "# pip install ndjson"
   ]
  },
  {
   "cell_type": "code",
   "execution_count": 3,
   "metadata": {},
   "outputs": [],
   "source": [
    "import ndjson\n",
    "import pandas as pd\n",
    "import numpy as np\n",
    "import seaborn as sns\n",
    "import matplotlib.pyplot as plt\n",
    "\n",
    "plt.rcParams['figure.dpi'] = 200\n",
    "sns.set_style('whitegrid')\n",
    "%matplotlib inline"
   ]
  },
  {
   "cell_type": "code",
   "execution_count": 4,
   "metadata": {},
   "outputs": [],
   "source": [
    "# reading the json file\n",
    "with open('../data/Office_Products_5.json') as file:\n",
    "    data = ndjson.load(file)"
   ]
  },
  {
   "cell_type": "code",
   "execution_count": 5,
   "metadata": {},
   "outputs": [
    {
     "data": {
      "text/plain": [
       "(800357, 12)"
      ]
     },
     "execution_count": 5,
     "metadata": {},
     "output_type": "execute_result"
    }
   ],
   "source": [
    "df = pd.DataFrame(data)\n",
    "df.shape"
   ]
  },
  {
   "cell_type": "code",
   "execution_count": 6,
   "metadata": {},
   "outputs": [
    {
     "data": {
      "text/html": [
       "<div>\n",
       "<style scoped>\n",
       "    .dataframe tbody tr th:only-of-type {\n",
       "        vertical-align: middle;\n",
       "    }\n",
       "\n",
       "    .dataframe tbody tr th {\n",
       "        vertical-align: top;\n",
       "    }\n",
       "\n",
       "    .dataframe thead th {\n",
       "        text-align: right;\n",
       "    }\n",
       "</style>\n",
       "<table border=\"1\" class=\"dataframe\">\n",
       "  <thead>\n",
       "    <tr style=\"text-align: right;\">\n",
       "      <th></th>\n",
       "      <th>overall</th>\n",
       "      <th>verified</th>\n",
       "      <th>reviewTime</th>\n",
       "      <th>reviewerID</th>\n",
       "      <th>asin</th>\n",
       "      <th>style</th>\n",
       "      <th>reviewerName</th>\n",
       "      <th>reviewText</th>\n",
       "      <th>summary</th>\n",
       "      <th>unixReviewTime</th>\n",
       "      <th>vote</th>\n",
       "      <th>image</th>\n",
       "    </tr>\n",
       "  </thead>\n",
       "  <tbody>\n",
       "    <tr>\n",
       "      <th>0</th>\n",
       "      <td>4.0</td>\n",
       "      <td>True</td>\n",
       "      <td>11 7, 2017</td>\n",
       "      <td>A2NIJTYWADLK57</td>\n",
       "      <td>0140503528</td>\n",
       "      <td>{'Format:': ' Board book'}</td>\n",
       "      <td>cotton clay</td>\n",
       "      <td>kids like story BUT while i really wanted a bo...</td>\n",
       "      <td>good story, small size book though</td>\n",
       "      <td>1510012800</td>\n",
       "      <td>NaN</td>\n",
       "      <td>NaN</td>\n",
       "    </tr>\n",
       "    <tr>\n",
       "      <th>1</th>\n",
       "      <td>4.0</td>\n",
       "      <td>True</td>\n",
       "      <td>03 7, 2017</td>\n",
       "      <td>A2827D8EEURMP4</td>\n",
       "      <td>0140503528</td>\n",
       "      <td>{'Format:': ' Hardcover'}</td>\n",
       "      <td>emankcin</td>\n",
       "      <td>Bought this used and it came in great conditio...</td>\n",
       "      <td>Good</td>\n",
       "      <td>1488844800</td>\n",
       "      <td>NaN</td>\n",
       "      <td>NaN</td>\n",
       "    </tr>\n",
       "    <tr>\n",
       "      <th>2</th>\n",
       "      <td>5.0</td>\n",
       "      <td>True</td>\n",
       "      <td>06 25, 2016</td>\n",
       "      <td>APB6087F4J09J</td>\n",
       "      <td>0140503528</td>\n",
       "      <td>{'Format:': ' Board book'}</td>\n",
       "      <td>Starbucks Fan</td>\n",
       "      <td>Every story and book about Corduroy is Fantast...</td>\n",
       "      <td>Best Books for All Children</td>\n",
       "      <td>1466812800</td>\n",
       "      <td>NaN</td>\n",
       "      <td>NaN</td>\n",
       "    </tr>\n",
       "    <tr>\n",
       "      <th>3</th>\n",
       "      <td>5.0</td>\n",
       "      <td>True</td>\n",
       "      <td>02 21, 2016</td>\n",
       "      <td>A2DHERRZIPFU7X</td>\n",
       "      <td>0140503528</td>\n",
       "      <td>{'Format:': ' Paperback'}</td>\n",
       "      <td>Caitlyn Jacobson</td>\n",
       "      <td>I purchased this book for my first grade class...</td>\n",
       "      <td>Great for Math!</td>\n",
       "      <td>1456012800</td>\n",
       "      <td>NaN</td>\n",
       "      <td>NaN</td>\n",
       "    </tr>\n",
       "    <tr>\n",
       "      <th>4</th>\n",
       "      <td>5.0</td>\n",
       "      <td>False</td>\n",
       "      <td>08 2, 2015</td>\n",
       "      <td>A2XCLJRGFANRC</td>\n",
       "      <td>0140503528</td>\n",
       "      <td>{'Format:': ' Hardcover'}</td>\n",
       "      <td>E. Ervin</td>\n",
       "      <td>Having spent numerous years in an elementary s...</td>\n",
       "      <td>Love Corduroy</td>\n",
       "      <td>1438473600</td>\n",
       "      <td>NaN</td>\n",
       "      <td>NaN</td>\n",
       "    </tr>\n",
       "  </tbody>\n",
       "</table>\n",
       "</div>"
      ],
      "text/plain": [
       "   overall  verified   reviewTime      reviewerID        asin  \\\n",
       "0      4.0      True   11 7, 2017  A2NIJTYWADLK57  0140503528   \n",
       "1      4.0      True   03 7, 2017  A2827D8EEURMP4  0140503528   \n",
       "2      5.0      True  06 25, 2016   APB6087F4J09J  0140503528   \n",
       "3      5.0      True  02 21, 2016  A2DHERRZIPFU7X  0140503528   \n",
       "4      5.0     False   08 2, 2015   A2XCLJRGFANRC  0140503528   \n",
       "\n",
       "                        style      reviewerName  \\\n",
       "0  {'Format:': ' Board book'}       cotton clay   \n",
       "1   {'Format:': ' Hardcover'}          emankcin   \n",
       "2  {'Format:': ' Board book'}     Starbucks Fan   \n",
       "3   {'Format:': ' Paperback'}  Caitlyn Jacobson   \n",
       "4   {'Format:': ' Hardcover'}          E. Ervin   \n",
       "\n",
       "                                          reviewText  \\\n",
       "0  kids like story BUT while i really wanted a bo...   \n",
       "1  Bought this used and it came in great conditio...   \n",
       "2  Every story and book about Corduroy is Fantast...   \n",
       "3  I purchased this book for my first grade class...   \n",
       "4  Having spent numerous years in an elementary s...   \n",
       "\n",
       "                              summary  unixReviewTime vote image  \n",
       "0  good story, small size book though      1510012800  NaN   NaN  \n",
       "1                                Good      1488844800  NaN   NaN  \n",
       "2         Best Books for All Children      1466812800  NaN   NaN  \n",
       "3                     Great for Math!      1456012800  NaN   NaN  \n",
       "4                       Love Corduroy      1438473600  NaN   NaN  "
      ]
     },
     "metadata": {},
     "output_type": "display_data"
    },
    {
     "data": {
      "text/html": [
       "<div>\n",
       "<style scoped>\n",
       "    .dataframe tbody tr th:only-of-type {\n",
       "        vertical-align: middle;\n",
       "    }\n",
       "\n",
       "    .dataframe tbody tr th {\n",
       "        vertical-align: top;\n",
       "    }\n",
       "\n",
       "    .dataframe thead th {\n",
       "        text-align: right;\n",
       "    }\n",
       "</style>\n",
       "<table border=\"1\" class=\"dataframe\">\n",
       "  <thead>\n",
       "    <tr style=\"text-align: right;\">\n",
       "      <th></th>\n",
       "      <th>overall</th>\n",
       "      <th>verified</th>\n",
       "      <th>reviewTime</th>\n",
       "      <th>reviewerID</th>\n",
       "      <th>asin</th>\n",
       "      <th>style</th>\n",
       "      <th>reviewerName</th>\n",
       "      <th>reviewText</th>\n",
       "      <th>summary</th>\n",
       "      <th>unixReviewTime</th>\n",
       "      <th>vote</th>\n",
       "      <th>image</th>\n",
       "    </tr>\n",
       "  </thead>\n",
       "  <tbody>\n",
       "    <tr>\n",
       "      <th>800352</th>\n",
       "      <td>5.0</td>\n",
       "      <td>True</td>\n",
       "      <td>09 9, 2017</td>\n",
       "      <td>ACHG5QICJCS1F</td>\n",
       "      <td>B01HHLLLIO</td>\n",
       "      <td>{'Size:': ' 6 Rolls'}</td>\n",
       "      <td>Anky</td>\n",
       "      <td>Delivered on time and is as expected.</td>\n",
       "      <td>5 stars</td>\n",
       "      <td>1504915200</td>\n",
       "      <td>NaN</td>\n",
       "      <td>NaN</td>\n",
       "    </tr>\n",
       "    <tr>\n",
       "      <th>800353</th>\n",
       "      <td>5.0</td>\n",
       "      <td>True</td>\n",
       "      <td>06 2, 2017</td>\n",
       "      <td>A1YB5J8SF6QX3L</td>\n",
       "      <td>B01HHLLLIO</td>\n",
       "      <td>{'Size:': ' 6 Rolls'}</td>\n",
       "      <td>DM</td>\n",
       "      <td>worked great.</td>\n",
       "      <td>good stuff</td>\n",
       "      <td>1496361600</td>\n",
       "      <td>NaN</td>\n",
       "      <td>NaN</td>\n",
       "    </tr>\n",
       "    <tr>\n",
       "      <th>800354</th>\n",
       "      <td>5.0</td>\n",
       "      <td>True</td>\n",
       "      <td>04 29, 2017</td>\n",
       "      <td>A3N4O7L4HBYJX4</td>\n",
       "      <td>B01HHLLLIO</td>\n",
       "      <td>{'Size:': ' 6 Rolls'}</td>\n",
       "      <td>Verdant Treasures</td>\n",
       "      <td>I used to score free UPS 4x6 labels.  The blac...</td>\n",
       "      <td>Couldn't be happier with these labels</td>\n",
       "      <td>1493424000</td>\n",
       "      <td>NaN</td>\n",
       "      <td>NaN</td>\n",
       "    </tr>\n",
       "    <tr>\n",
       "      <th>800355</th>\n",
       "      <td>5.0</td>\n",
       "      <td>True</td>\n",
       "      <td>02 21, 2017</td>\n",
       "      <td>A2DR3CXSWWLYXY</td>\n",
       "      <td>B01HHLLLIO</td>\n",
       "      <td>{'Size:': ' 6 Rolls'}</td>\n",
       "      <td>C. F.</td>\n",
       "      <td>great</td>\n",
       "      <td>Five Stars</td>\n",
       "      <td>1487635200</td>\n",
       "      <td>NaN</td>\n",
       "      <td>NaN</td>\n",
       "    </tr>\n",
       "    <tr>\n",
       "      <th>800356</th>\n",
       "      <td>4.0</td>\n",
       "      <td>True</td>\n",
       "      <td>01 27, 2018</td>\n",
       "      <td>A3824BGRMFVT05</td>\n",
       "      <td>B01HINS07G</td>\n",
       "      <td>{'Style:': ' with Erasers'}</td>\n",
       "      <td>Tegan M. Reyes</td>\n",
       "      <td>Struggled finding a sharpener and they didn't ...</td>\n",
       "      <td>Four Stars</td>\n",
       "      <td>1517011200</td>\n",
       "      <td>NaN</td>\n",
       "      <td>NaN</td>\n",
       "    </tr>\n",
       "  </tbody>\n",
       "</table>\n",
       "</div>"
      ],
      "text/plain": [
       "        overall  verified   reviewTime      reviewerID        asin  \\\n",
       "800352      5.0      True   09 9, 2017   ACHG5QICJCS1F  B01HHLLLIO   \n",
       "800353      5.0      True   06 2, 2017  A1YB5J8SF6QX3L  B01HHLLLIO   \n",
       "800354      5.0      True  04 29, 2017  A3N4O7L4HBYJX4  B01HHLLLIO   \n",
       "800355      5.0      True  02 21, 2017  A2DR3CXSWWLYXY  B01HHLLLIO   \n",
       "800356      4.0      True  01 27, 2018  A3824BGRMFVT05  B01HINS07G   \n",
       "\n",
       "                              style       reviewerName  \\\n",
       "800352        {'Size:': ' 6 Rolls'}               Anky   \n",
       "800353        {'Size:': ' 6 Rolls'}                 DM   \n",
       "800354        {'Size:': ' 6 Rolls'}  Verdant Treasures   \n",
       "800355        {'Size:': ' 6 Rolls'}              C. F.   \n",
       "800356  {'Style:': ' with Erasers'}     Tegan M. Reyes   \n",
       "\n",
       "                                               reviewText  \\\n",
       "800352              Delivered on time and is as expected.   \n",
       "800353                                      worked great.   \n",
       "800354  I used to score free UPS 4x6 labels.  The blac...   \n",
       "800355                                              great   \n",
       "800356  Struggled finding a sharpener and they didn't ...   \n",
       "\n",
       "                                      summary  unixReviewTime vote image  \n",
       "800352                                5 stars      1504915200  NaN   NaN  \n",
       "800353                             good stuff      1496361600  NaN   NaN  \n",
       "800354  Couldn't be happier with these labels      1493424000  NaN   NaN  \n",
       "800355                             Five Stars      1487635200  NaN   NaN  \n",
       "800356                             Four Stars      1517011200  NaN   NaN  "
      ]
     },
     "metadata": {},
     "output_type": "display_data"
    },
    {
     "data": {
      "text/html": [
       "<div>\n",
       "<style scoped>\n",
       "    .dataframe tbody tr th:only-of-type {\n",
       "        vertical-align: middle;\n",
       "    }\n",
       "\n",
       "    .dataframe tbody tr th {\n",
       "        vertical-align: top;\n",
       "    }\n",
       "\n",
       "    .dataframe thead th {\n",
       "        text-align: right;\n",
       "    }\n",
       "</style>\n",
       "<table border=\"1\" class=\"dataframe\">\n",
       "  <thead>\n",
       "    <tr style=\"text-align: right;\">\n",
       "      <th></th>\n",
       "      <th>overall</th>\n",
       "      <th>verified</th>\n",
       "      <th>reviewTime</th>\n",
       "      <th>reviewerID</th>\n",
       "      <th>asin</th>\n",
       "      <th>style</th>\n",
       "      <th>reviewerName</th>\n",
       "      <th>reviewText</th>\n",
       "      <th>summary</th>\n",
       "      <th>unixReviewTime</th>\n",
       "      <th>vote</th>\n",
       "      <th>image</th>\n",
       "    </tr>\n",
       "  </thead>\n",
       "  <tbody>\n",
       "    <tr>\n",
       "      <th>66878</th>\n",
       "      <td>5.0</td>\n",
       "      <td>True</td>\n",
       "      <td>01 7, 2018</td>\n",
       "      <td>A2MKBHTR2PH28V</td>\n",
       "      <td>B00006IFF1</td>\n",
       "      <td>{'Size:': ' 12-Count', 'Color:': ' Black', 'Pa...</td>\n",
       "      <td>Melanie A</td>\n",
       "      <td>Love it</td>\n",
       "      <td>Five Stars</td>\n",
       "      <td>1515283200</td>\n",
       "      <td>NaN</td>\n",
       "      <td>NaN</td>\n",
       "    </tr>\n",
       "    <tr>\n",
       "      <th>269492</th>\n",
       "      <td>5.0</td>\n",
       "      <td>False</td>\n",
       "      <td>04 12, 2014</td>\n",
       "      <td>AVACRPQ3NYSDU</td>\n",
       "      <td>B000ZVSBQ4</td>\n",
       "      <td>NaN</td>\n",
       "      <td>RENEE JEREB</td>\n",
       "      <td>These time cards work well with our manual tim...</td>\n",
       "      <td>Works well with our time clock</td>\n",
       "      <td>1397260800</td>\n",
       "      <td>NaN</td>\n",
       "      <td>NaN</td>\n",
       "    </tr>\n",
       "    <tr>\n",
       "      <th>624529</th>\n",
       "      <td>5.0</td>\n",
       "      <td>True</td>\n",
       "      <td>11 15, 2016</td>\n",
       "      <td>A2D0PL5AI77KLY</td>\n",
       "      <td>B00PRYQJ72</td>\n",
       "      <td>NaN</td>\n",
       "      <td>Brad</td>\n",
       "      <td>I bought these for my fridge and they write we...</td>\n",
       "      <td>... fridge and they write well and the colors ...</td>\n",
       "      <td>1479168000</td>\n",
       "      <td>2</td>\n",
       "      <td>NaN</td>\n",
       "    </tr>\n",
       "    <tr>\n",
       "      <th>417255</th>\n",
       "      <td>3.0</td>\n",
       "      <td>False</td>\n",
       "      <td>08 7, 2012</td>\n",
       "      <td>A33TED651NAXWU</td>\n",
       "      <td>B004OA73B6</td>\n",
       "      <td>NaN</td>\n",
       "      <td>Johnny Williams</td>\n",
       "      <td>&lt;div id=\"video-block-RP6G3O9YLA2SZ\" class=\"a-s...</td>\n",
       "      <td>5 star when the battery Charges.</td>\n",
       "      <td>1344297600</td>\n",
       "      <td>NaN</td>\n",
       "      <td>NaN</td>\n",
       "    </tr>\n",
       "    <tr>\n",
       "      <th>411222</th>\n",
       "      <td>5.0</td>\n",
       "      <td>True</td>\n",
       "      <td>07 4, 2014</td>\n",
       "      <td>AIPNEXNVXJKBV</td>\n",
       "      <td>B004IZN3RK</td>\n",
       "      <td>NaN</td>\n",
       "      <td>jesus cruz</td>\n",
       "      <td>Perfect machine work very  silent. Change My m...</td>\n",
       "      <td>Five Stars</td>\n",
       "      <td>1404432000</td>\n",
       "      <td>NaN</td>\n",
       "      <td>NaN</td>\n",
       "    </tr>\n",
       "  </tbody>\n",
       "</table>\n",
       "</div>"
      ],
      "text/plain": [
       "        overall  verified   reviewTime      reviewerID        asin  \\\n",
       "66878       5.0      True   01 7, 2018  A2MKBHTR2PH28V  B00006IFF1   \n",
       "269492      5.0     False  04 12, 2014   AVACRPQ3NYSDU  B000ZVSBQ4   \n",
       "624529      5.0      True  11 15, 2016  A2D0PL5AI77KLY  B00PRYQJ72   \n",
       "417255      3.0     False   08 7, 2012  A33TED651NAXWU  B004OA73B6   \n",
       "411222      5.0      True   07 4, 2014   AIPNEXNVXJKBV  B004IZN3RK   \n",
       "\n",
       "                                                    style     reviewerName  \\\n",
       "66878   {'Size:': ' 12-Count', 'Color:': ' Black', 'Pa...        Melanie A   \n",
       "269492                                                NaN      RENEE JEREB   \n",
       "624529                                                NaN             Brad   \n",
       "417255                                                NaN  Johnny Williams   \n",
       "411222                                                NaN       jesus cruz   \n",
       "\n",
       "                                               reviewText  \\\n",
       "66878                                             Love it   \n",
       "269492  These time cards work well with our manual tim...   \n",
       "624529  I bought these for my fridge and they write we...   \n",
       "417255  <div id=\"video-block-RP6G3O9YLA2SZ\" class=\"a-s...   \n",
       "411222  Perfect machine work very  silent. Change My m...   \n",
       "\n",
       "                                                  summary  unixReviewTime  \\\n",
       "66878                                          Five Stars      1515283200   \n",
       "269492                     Works well with our time clock      1397260800   \n",
       "624529  ... fridge and they write well and the colors ...      1479168000   \n",
       "417255                   5 star when the battery Charges.      1344297600   \n",
       "411222                                         Five Stars      1404432000   \n",
       "\n",
       "       vote image  \n",
       "66878   NaN   NaN  \n",
       "269492  NaN   NaN  \n",
       "624529    2   NaN  \n",
       "417255  NaN   NaN  \n",
       "411222  NaN   NaN  "
      ]
     },
     "metadata": {},
     "output_type": "display_data"
    }
   ],
   "source": [
    "display(df.head(),df.tail(),df.sample(5))"
   ]
  },
  {
   "cell_type": "markdown",
   "metadata": {},
   "source": [
    "## Data Dictionry\n",
    "- __reviewerID__ - ID of the reviewer, e.g. A2SUAM1J3GNN3B\n",
    "- __asin__ - ID of the product, e.g. 0000013714\n",
    "- __reviewerName__ - name of the reviewer\n",
    "- __vote__ - helpful votes of the review\n",
    "- __style__ - a dictionary of the product metadata, e.g., \"Format\" is \"Hardcover\"\n",
    "- __reviewText__ - text of the review\n",
    "- __overall__ - rating of the produc|t\n",
    "- __summary__ - summary of the review\n",
    "- __unixReviewTime__ - time of the review (unix time)\n",
    "- __reviewTime__ - time of the review (raw)\n",
    "- __image__ - images that users post after they have received the product"
   ]
  },
  {
   "cell_type": "code",
   "execution_count": 7,
   "metadata": {},
   "outputs": [
    {
     "name": "stdout",
     "output_type": "stream",
     "text": [
      "<class 'pandas.core.frame.DataFrame'>\n",
      "RangeIndex: 800357 entries, 0 to 800356\n",
      "Data columns (total 12 columns):\n",
      " #   Column          Non-Null Count   Dtype  \n",
      "---  ------          --------------   -----  \n",
      " 0   overall         800357 non-null  float64\n",
      " 1   verified        800357 non-null  bool   \n",
      " 2   reviewTime      800357 non-null  object \n",
      " 3   reviewerID      800357 non-null  object \n",
      " 4   asin            800357 non-null  object \n",
      " 5   style           501427 non-null  object \n",
      " 6   reviewerName    800217 non-null  object \n",
      " 7   reviewText      800144 non-null  object \n",
      " 8   summary         800228 non-null  object \n",
      " 9   unixReviewTime  800357 non-null  int64  \n",
      " 10  vote            88817 non-null   object \n",
      " 11  image           11302 non-null   object \n",
      "dtypes: bool(1), float64(1), int64(1), object(9)\n",
      "memory usage: 67.9+ MB\n"
     ]
    }
   ],
   "source": [
    "df.info()"
   ]
  },
  {
   "cell_type": "code",
   "execution_count": 8,
   "metadata": {},
   "outputs": [
    {
     "data": {
      "image/png": "[encoded data removed]",
      "text/plain": [
       "<Figure size 1280x960 with 1 Axes>"
      ]
     },
     "metadata": {},
     "output_type": "display_data"
    }
   ],
   "source": [
    "sns.countplot(df,x='overall')\n",
    "plt.title('Distribution of Overall Ratings')\n",
    "plt.show()"
   ]
  },
  {
   "cell_type": "code",
   "execution_count": 9,
   "metadata": {},
   "outputs": [
    {
     "data": {
      "text/plain": [
       "27965"
      ]
     },
     "execution_count": 9,
     "metadata": {},
     "output_type": "execute_result"
    }
   ],
   "source": [
    "df['asin'].nunique()"
   ]
  },
  {
   "cell_type": "markdown",
   "metadata": {},
   "source": [
    "We have 27 thousand unique products out of the total 800 thousand records"
   ]
  },
  {
   "cell_type": "code",
   "execution_count": 10,
   "metadata": {},
   "outputs": [
    {
     "data": {
      "text/plain": [
       "overall\n",
       "5.0    570993\n",
       "4.0    122889\n",
       "3.0     50702\n",
       "1.0     31697\n",
       "2.0     24076\n",
       "Name: count, dtype: int64"
      ]
     },
     "execution_count": 10,
     "metadata": {},
     "output_type": "execute_result"
    }
   ],
   "source": [
    "df['overall'].value_counts()"
   ]
  },
  {
   "cell_type": "markdown",
   "metadata": {},
   "source": [
    "# Class Rebalancing\n",
    "Here we are going to over sample the extreme cases i.e Negative (1 star ratings) and Positive i.e (5 star ratings) because in sentimental analysis these extreme cases often carry more significance and provide valuable insights.\n",
    "\n",
    "in our case, we are taking a random sample of the reviews by \n",
    "- selecting 3000 reviews with rating 1\n",
    "- selecting 1000-1000-1000 reviews with ratings 2, 3, 4\n",
    "- selecting 3000 reviews with rating 5.\n",
    "For creating a smaller and more balanced dataset"
   ]
  },
  {
   "cell_type": "code",
   "execution_count": 11,
   "metadata": {},
   "outputs": [],
   "source": [
    "np.random.seed(1)\n",
    "one_3000 = df[df['overall']==1.0].sample(3000)\n",
    "two_1000 = df[df['overall']==2.0].sample(1000)\n",
    "three_1000 = df[df['overall']==3.0].sample(1000)\n",
    "four_1000 = df[df['overall']==4.0].sample(1000)\n",
    "five_3000 = df[df['overall']==5.0].sample(3000)"
   ]
  },
  {
   "cell_type": "code",
   "execution_count": 12,
   "metadata": {},
   "outputs": [],
   "source": [
    "undersampled_df = pd.concat([one_3000, two_1000, three_1000, four_1000,five_3000], axis=0)"
   ]
  },
  {
   "cell_type": "code",
   "execution_count": 13,
   "metadata": {},
   "outputs": [
    {
     "data": {
      "text/plain": [
       "(9000, 12)"
      ]
     },
     "execution_count": 13,
     "metadata": {},
     "output_type": "execute_result"
    }
   ],
   "source": [
    "undersampled_df.shape"
   ]
  },
  {
   "cell_type": "code",
   "execution_count": 14,
   "metadata": {},
   "outputs": [
    {
     "data": {
      "text/plain": [
       "overall\n",
       "1.0    3000\n",
       "5.0    3000\n",
       "2.0    1000\n",
       "3.0    1000\n",
       "4.0    1000\n",
       "Name: count, dtype: int64"
      ]
     },
     "execution_count": 14,
     "metadata": {},
     "output_type": "execute_result"
    }
   ],
   "source": [
    "undersampled_df['overall'].value_counts()"
   ]
  },
  {
   "cell_type": "code",
   "execution_count": 15,
   "metadata": {},
   "outputs": [
    {
     "data": {
      "image/png": "[encoded data removed]",
      "text/plain": [
       "<Figure size 1280x960 with 1 Axes>"
      ]
     },
     "metadata": {},
     "output_type": "display_data"
    }
   ],
   "source": [
    "sns.countplot(undersampled_df, x='overall')\n",
    "plt.title('Distribution of Overall Ratings After Undersampling')\n",
    "plt.show()"
   ]
  },
  {
   "cell_type": "markdown",
   "metadata": {},
   "source": [
    "### Creating a random sample of 100K reviews"
   ]
  },
  {
   "cell_type": "code",
   "execution_count": 16,
   "metadata": {},
   "outputs": [],
   "source": [
    "sample_100k_reviews = df.sample(n=100000, random_state=1)"
   ]
  },
  {
   "cell_type": "markdown",
   "metadata": {},
   "source": [
    "### Exporting both the datasets"
   ]
  },
  {
   "cell_type": "code",
   "execution_count": 17,
   "metadata": {},
   "outputs": [],
   "source": [
    "undersampled_df.to_csv('../data/small_sample.csv', index=False)\n",
    "sample_100k_reviews.to_csv('../data/big_sample.csv', index=False)"
   ]
  }
 ],
 "metadata": {
  "kernelspec": {
   "display_name": "base",
   "language": "python",
   "name": "python3"
  },
  "language_info": {
   "codemirror_mode": {
    "name": "ipython",
    "version": 3
   },
   "file_extension": ".py",
   "mimetype": "text/x-python",
   "name": "python",
   "nbconvert_exporter": "python",
   "pygments_lexer": "ipython3",
   "version": "3.11.3"
  }
 },
 "nbformat": 4,
 "nbformat_minor": 2
}

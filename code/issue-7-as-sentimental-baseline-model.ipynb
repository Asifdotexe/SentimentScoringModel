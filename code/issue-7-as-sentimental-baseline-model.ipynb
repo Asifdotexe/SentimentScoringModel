{
 "cells": [
  {
   "cell_type": "code",
   "execution_count": 1,
   "metadata": {},
   "outputs": [],
   "source": [
    "# importing libraries\n",
    "import nltk\n",
    "import pandas as pd\n",
    "from nltk.corpus import wordnet as wn\n",
    "from nltk.corpus import sentiwordnet as swn\n",
    "from nltk.tokenize import word_tokenize\n",
    "from nltk.tag import pos_tag\n",
    "# import nltk\n",
    "# nltk.download('sentiwordnet')\n",
    "\n",
    "from src.nlp_preprocessing import pos_tag\n",
    "from src.nlp_preprocessing import penn_to_wn"
   ]
  },
  {
   "cell_type": "code",
   "execution_count": 2,
   "metadata": {},
   "outputs": [],
   "source": [
    "df = pd.read_csv('../data/preprocessed_small_sample.csv')"
   ]
  },
  {
   "cell_type": "code",
   "execution_count": 3,
   "metadata": {},
   "outputs": [],
   "source": [
    "def get_sentiment_score(tokens):\n",
    "    \"\"\"\n",
    "    Calculate sentiment score for a list of tokens.\n",
    "\n",
    "    Parameters:\n",
    "    - tokens (list): List of tokens representing words.\n",
    "\n",
    "    Returns:\n",
    "    - score (float): Sentiment score calculated based on the tokens.\n",
    "    \"\"\"\n",
    "\n",
    "    # Define score default as zero\n",
    "    score = 0\n",
    "    # Tag individual tokens with their part of speech\n",
    "    tags = pos_tag(tokens)\n",
    "    \n",
    "    # Iterate through each token and its corresponding tag\n",
    "    for word, tag in tags:\n",
    "        \n",
    "        # Convert Penn Treebank tag to WordNet tag\n",
    "        wordnet_tag = penn_to_wn(tag)\n",
    "        # If WordNet tag is not found, skip to the next token\n",
    "        if not wordnet_tag:\n",
    "            continue\n",
    "        \n",
    "        # Get synsets (sets of synonyms) for the word with the specified POS tag\n",
    "        synsets = wn.synsets(word, pos=wordnet_tag)\n",
    "        # If no synsets are found, skip to the next token\n",
    "        if not synsets:\n",
    "            continue\n",
    "        \n",
    "        # Select the most common synset\n",
    "        synset = synsets[0]\n",
    "        # Get sentiment score for the synset using SentiWordNet\n",
    "        sentiwordnet_synset = swn.senti_synset(synset.name())\n",
    "        \n",
    "        # Update the score by adding the difference between positive and negative scores\n",
    "        score += (sentiwordnet_synset.pos_score() - sentiwordnet_synset.neg_score())\n",
    "        \n",
    "    return score"
   ]
  },
  {
   "cell_type": "code",
   "execution_count": 6,
   "metadata": {},
   "outputs": [
    {
     "data": {
      "text/plain": [
       "0.5"
      ]
     },
     "execution_count": 6,
     "metadata": {},
     "output_type": "execute_result"
    }
   ],
   "source": [
    "# testing\n",
    "swn.senti_synset(wn.synsets(\"amazing\", wn.ADJ)[0].name()).pos_score()"
   ]
  },
  {
   "cell_type": "code",
   "execution_count": 12,
   "metadata": {},
   "outputs": [
    {
     "name": "stdout",
     "output_type": "stream",
     "text": [
      "POS score: 0.0\n",
      "NEG score: 0.375\n",
      "POS OBJ: 0.625\n",
      "Overall Score: -0.375\n",
      "\n",
      "POS score: 0.125\n",
      "NEG score: 0.375\n",
      "POS OBJ: 0.5\n",
      "Overall Score: -0.25\n",
      "\n",
      "POS score: 0.0\n",
      "NEG score: 0.125\n",
      "POS OBJ: 0.875\n",
      "Overall Score: -0.125\n",
      "\n",
      "POS score: 0.0\n",
      "NEG score: 0.125\n",
      "POS OBJ: 0.875\n",
      "Overall Score: -0.125\n",
      "\n",
      "POS score: 0.0\n",
      "NEG score: 0.0\n",
      "POS OBJ: 1.0\n",
      "Overall Score: 0.0\n",
      "\n",
      "POS score: 0.0\n",
      "NEG score: 0.125\n",
      "POS OBJ: 0.875\n",
      "Overall Score: -0.125\n",
      "\n",
      "POS score: 0.0\n",
      "NEG score: 0.375\n",
      "POS OBJ: 0.625\n",
      "Overall Score: -0.375\n",
      "\n"
     ]
    }
   ],
   "source": [
    "# testing\n",
    "synsets = swn.senti_synsets('abandon')\n",
    "\n",
    "for i in synsets:\n",
    "    print(\"POS score:\", i.pos_score())\n",
    "    print(\"NEG score:\", i.neg_score())\n",
    "    print(\"POS OBJ:\", i.obj_score())\n",
    "    print('Overall Score:', i.pos_score() - i.neg_score())\n",
    "    print()"
   ]
  },
  {
   "cell_type": "code",
   "execution_count": 14,
   "metadata": {},
   "outputs": [
    {
     "name": "stdout",
     "output_type": "stream",
     "text": [
      "POS score: 0.625\n",
      "NEG score: 0.0\n",
      "POS OBJ: 0.375\n",
      "Overall Score: 0.625\n",
      "\n",
      "POS score: 0.375\n",
      "NEG score: 0.0\n",
      "POS OBJ: 0.625\n",
      "Overall Score: 0.375\n",
      "\n",
      "POS score: 0.125\n",
      "NEG score: 0.0\n",
      "POS OBJ: 0.875\n",
      "Overall Score: 0.125\n",
      "\n",
      "POS score: 0.25\n",
      "NEG score: 0.0\n",
      "POS OBJ: 0.75\n",
      "Overall Score: 0.25\n",
      "\n",
      "POS score: 0.0\n",
      "NEG score: 0.0\n",
      "POS OBJ: 1.0\n",
      "Overall Score: 0.0\n",
      "\n",
      "POS score: 0.0\n",
      "NEG score: 0.0\n",
      "POS OBJ: 1.0\n",
      "Overall Score: 0.0\n",
      "\n",
      "POS score: 0.5\n",
      "NEG score: 0.0\n",
      "POS OBJ: 0.5\n",
      "Overall Score: 0.5\n",
      "\n",
      "POS score: 1.0\n",
      "NEG score: 0.0\n",
      "POS OBJ: 0.0\n",
      "Overall Score: 1.0\n",
      "\n",
      "POS score: 0.625\n",
      "NEG score: 0.0\n",
      "POS OBJ: 0.375\n",
      "Overall Score: 0.625\n",
      "\n",
      "POS score: 0.375\n",
      "NEG score: 0.125\n",
      "POS OBJ: 0.5\n",
      "Overall Score: 0.25\n",
      "\n"
     ]
    }
   ],
   "source": [
    "# testing\n",
    "synsets = swn.senti_synsets('love')\n",
    "\n",
    "for i in synsets:\n",
    "    print(\"POS score:\", i.pos_score())\n",
    "    print(\"NEG score:\", i.neg_score())\n",
    "    print(\"POS OBJ:\", i.obj_score())\n",
    "    print('Overall Score:', i.pos_score() - i.neg_score())\n",
    "    print()"
   ]
  }
 ],
 "metadata": {
  "kernelspec": {
   "display_name": "base",
   "language": "python",
   "name": "python3"
  },
  "language_info": {
   "codemirror_mode": {
    "name": "ipython",
    "version": 3
   },
   "file_extension": ".py",
   "mimetype": "text/x-python",
   "name": "python",
   "nbconvert_exporter": "python",
   "pygments_lexer": "ipython3",
   "version": "3.11.3"
  }
 },
 "nbformat": 4,
 "nbformat_minor": 2
}
